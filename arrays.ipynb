{
 "cells": [
  {
   "cell_type": "code",
   "execution_count": 52,
   "metadata": {},
   "outputs": [
    {
     "data": {
      "text/plain": [
       "array([ 1,  5,  2,  9, 10], dtype=int8)"
      ]
     },
     "execution_count": 52,
     "metadata": {},
     "output_type": "execute_result"
    }
   ],
   "source": [
    "import numpy as np\n",
    "arr = np.array([1,5,2,9,10], dtype=np.int8)\n",
    "arr\n",
    "# array([ 1,  5,  2,  9, 10], dtype=int8)"
   ]
  },
  {
   "cell_type": "code",
   "execution_count": 53,
   "metadata": {},
   "outputs": [
    {
     "name": "stderr",
     "output_type": "stream",
     "text": [
      "C:\\Users\\stasf\\AppData\\Local\\Temp\\ipykernel_14792\\2685055372.py:1: DeprecationWarning: NumPy will stop allowing conversion of out-of-bound Python integers to integer arrays.  The conversion of 2000 to int8 will fail in the future.\n",
      "For the old behavior, usually:\n",
      "    np.array(value).astype(dtype)`\n",
      "will give the desired result (the cast overflows).\n",
      "  arr[2]=2000\n"
     ]
    },
    {
     "data": {
      "text/plain": [
       "array([  1,   5, -48,   9,  10], dtype=int8)"
      ]
     },
     "execution_count": 53,
     "metadata": {},
     "output_type": "execute_result"
    }
   ],
   "source": [
    "arr[2]=2000\n",
    "arr"
   ]
  },
  {
   "cell_type": "code",
   "execution_count": 54,
   "metadata": {},
   "outputs": [
    {
     "name": "stdout",
     "output_type": "stream",
     "text": [
      "100000000.0\n"
     ]
    }
   ],
   "source": [
    "print(np.float32(99999999))"
   ]
  },
  {
   "cell_type": "code",
   "execution_count": 55,
   "metadata": {},
   "outputs": [],
   "source": [
    "arr = np.array([1,5,2,9,10], dtype=np.int8)\n",
    "nd_arr = np.array([\n",
    "               [12, 45, 78],\n",
    "               [34, 56, 13],\n",
    "               [12, 98, 76]\n",
    "               ], dtype=np.int16)"
   ]
  },
  {
   "cell_type": "code",
   "execution_count": 56,
   "metadata": {},
   "outputs": [
    {
     "name": "stdout",
     "output_type": "stream",
     "text": [
      "2\n",
      "9\n",
      "(3, 3)\n"
     ]
    }
   ],
   "source": [
    "print(nd_arr.ndim)\n",
    "print(nd_arr.size)\n",
    "print(nd_arr.shape)"
   ]
  },
  {
   "cell_type": "code",
   "execution_count": 57,
   "metadata": {},
   "outputs": [
    {
     "data": {
      "text/plain": [
       "0.45"
      ]
     },
     "execution_count": 57,
     "metadata": {},
     "output_type": "execute_result"
    }
   ],
   "source": [
    "arr, step = np.linspace(-6, 21, 60, endpoint=False, retstep=True)\n",
    "step"
   ]
  },
  {
   "cell_type": "code",
   "execution_count": 58,
   "metadata": {},
   "outputs": [],
   "source": [
    "mystery = np.array([[-13586,  15203,  28445, -27117,  -1781, -17182, -18049],\n",
    "       [ 25936, -30968,  -1297,  -4593,   6451,  15790,   7181],\n",
    "       [ 13348,  28049,  28655,  -6012,  21762,  25397,   8225],\n",
    "       [ 13240,   7994,  32592,  20149,  13754,  11795,   -564],\n",
    "       [-21725,  -8681,  30305,  22260, -17918,  12578,  29943],\n",
    "       [-16841, -25392, -17278,  11740,   5916,    -47, -32037]],\n",
    "      dtype=np.int16)"
   ]
  },
  {
   "cell_type": "code",
   "execution_count": 59,
   "metadata": {},
   "outputs": [
    {
     "name": "stdout",
     "output_type": "stream",
     "text": [
      "-32037\n"
     ]
    }
   ],
   "source": [
    "last=mystery[-1,-1]\n",
    "print(last)"
   ]
  },
  {
   "cell_type": "code",
   "execution_count": 60,
   "metadata": {},
   "outputs": [
    {
     "name": "stdout",
     "output_type": "stream",
     "text": [
      "[13240  7994 32592 20149 13754 11795  -564]\n"
     ]
    }
   ],
   "source": [
    "line_4=(mystery[3:4,:])[0]\n",
    "print(line_4)"
   ]
  },
  {
   "cell_type": "code",
   "execution_count": 61,
   "metadata": {},
   "outputs": [
    {
     "name": "stdout",
     "output_type": "stream",
     "text": [
      "[-17182  15790  25397  11795  12578    -47]\n"
     ]
    }
   ],
   "source": [
    "col=mystery[:,-2]\n",
    "print(col)"
   ]
  },
  {
   "cell_type": "code",
   "execution_count": 62,
   "metadata": {},
   "outputs": [
    {
     "data": {
      "text/plain": [
       "array([[-1297, -4593,  6451],\n",
       "       [28655, -6012, 21762]], dtype=int16)"
      ]
     },
     "execution_count": 62,
     "metadata": {},
     "output_type": "execute_result"
    }
   ],
   "source": [
    "part=mystery[1:3,2:5]\n",
    "part"
   ]
  },
  {
   "cell_type": "code",
   "execution_count": 63,
   "metadata": {},
   "outputs": [
    {
     "data": {
      "text/plain": [
       "array([[-13586,  25936,  13348,  13240, -21725, -16841],\n",
       "       [ 15203, -30968,  28049,   7994,  -8681, -25392],\n",
       "       [ 28445,  -1297,  28655,  32592,  30305, -17278],\n",
       "       [-27117,  -4593,  -6012,  20149,  22260,  11740],\n",
       "       [ -1781,   6451,  21762,  13754, -17918,   5916],\n",
       "       [-17182,  15790,  25397,  11795,  12578,    -47],\n",
       "       [-18049,   7181,   8225,   -564,  29943, -32037]], dtype=int16)"
      ]
     },
     "execution_count": 63,
     "metadata": {},
     "output_type": "execute_result"
    }
   ],
   "source": [
    "trans=mystery.transpose()\n",
    "trans"
   ]
  },
  {
   "cell_type": "code",
   "execution_count": 64,
   "metadata": {},
   "outputs": [
    {
     "name": "stderr",
     "output_type": "stream",
     "text": [
      "<>:1: SyntaxWarning: list indices must be integers or slices, not tuple; perhaps you missed a comma?\n",
      "<>:1: SyntaxWarning: list indices must be integers or slices, not tuple; perhaps you missed a comma?\n",
      "C:\\Users\\stasf\\AppData\\Local\\Temp\\ipykernel_14792\\3120052952.py:1: SyntaxWarning: list indices must be integers or slices, not tuple; perhaps you missed a comma?\n",
      "  gg=[[-1297, -4593,  6451]\n"
     ]
    },
    {
     "ename": "TypeError",
     "evalue": "list indices must be integers or slices, not tuple",
     "output_type": "error",
     "traceback": [
      "\u001b[1;31m---------------------------------------------------------------------------\u001b[0m",
      "\u001b[1;31mTypeError\u001b[0m                                 Traceback (most recent call last)",
      "Cell \u001b[1;32mIn[64], line 1\u001b[0m\n\u001b[1;32m----> 1\u001b[0m gg\u001b[39m=\u001b[39m[[\u001b[39m-\u001b[39;49m\u001b[39m1297\u001b[39;49m, \u001b[39m-\u001b[39;49m\u001b[39m4593\u001b[39;49m,  \u001b[39m6451\u001b[39;49m]\n\u001b[0;32m      2\u001b[0m  [\u001b[39m28655\u001b[39;49m, \u001b[39m-\u001b[39;49m\u001b[39m6012\u001b[39;49m, \u001b[39m21762\u001b[39;49m]\n\u001b[0;32m      3\u001b[0m  [\u001b[39m32592\u001b[39m, \u001b[39m20149\u001b[39m, \u001b[39m13754\u001b[39m]]\n",
      "\u001b[1;31mTypeError\u001b[0m: list indices must be integers or slices, not tuple"
     ]
    }
   ],
   "source": [
    "gg=[[-1297, -4593,  6451]\n",
    " [28655, -6012, 21762]\n",
    " [32592, 20149, 13754]]"
   ]
  },
  {
   "cell_type": "code",
   "execution_count": null,
   "metadata": {},
   "outputs": [
    {
     "data": {
      "text/plain": [
       "array([[-1297, -4593,  6451],\n",
       "       [28655, -6012, 21762],\n",
       "       [32592, 20149, 13754]], dtype=int16)"
      ]
     },
     "execution_count": 77,
     "metadata": {},
     "output_type": "execute_result"
    }
   ],
   "source": [
    "part=mystery[1:4,2:5]\n",
    "part"
   ]
  },
  {
   "cell_type": "code",
   "execution_count": null,
   "metadata": {},
   "outputs": [
    {
     "name": "stderr",
     "output_type": "stream",
     "text": [
      "C:\\Users\\stasf\\AppData\\Local\\Temp\\ipykernel_22172\\3612371969.py:2: RuntimeWarning: invalid value encountered in sqrt\n",
      "  roots = np.sqrt(data)\n"
     ]
    },
    {
     "data": {
      "text/plain": [
       "array([2.        , 3.        ,        nan, 1.73205081])"
      ]
     },
     "execution_count": 78,
     "metadata": {},
     "output_type": "execute_result"
    }
   ],
   "source": [
    "data = np.array([4, 9, -4, 3])\n",
    "roots = np.sqrt(data)\n",
    "roots"
   ]
  },
  {
   "cell_type": "code",
   "execution_count": null,
   "metadata": {},
   "outputs": [
    {
     "name": "stderr",
     "output_type": "stream",
     "text": [
      "C:\\Users\\stasf\\AppData\\Local\\Temp\\ipykernel_22172\\3752651322.py:1: RuntimeWarning: invalid value encountered in sqrt\n",
      "  roots = np.sqrt(data)\n"
     ]
    },
    {
     "data": {
      "text/plain": [
       "array([2.        , 3.        ,        nan, 1.73205081])"
      ]
     },
     "execution_count": 80,
     "metadata": {},
     "output_type": "execute_result"
    }
   ],
   "source": [
    "roots = np.sqrt(data)\n",
    "roots"
   ]
  },
  {
   "cell_type": "code",
   "execution_count": null,
   "metadata": {},
   "outputs": [
    {
     "data": {
      "text/plain": [
       "array([False, False,  True, False])"
      ]
     },
     "execution_count": 83,
     "metadata": {},
     "output_type": "execute_result"
    }
   ],
   "source": [
    "np.isnan(roots)"
   ]
  },
  {
   "cell_type": "code",
   "execution_count": null,
   "metadata": {},
   "outputs": [
    {
     "data": {
      "text/plain": [
       "array([nan])"
      ]
     },
     "execution_count": 84,
     "metadata": {},
     "output_type": "execute_result"
    }
   ],
   "source": [
    "roots[np.isnan(roots)]"
   ]
  },
  {
   "cell_type": "code",
   "execution_count": null,
   "metadata": {},
   "outputs": [],
   "source": [
    "roots[np.isnan(roots)] = 0"
   ]
  },
  {
   "cell_type": "code",
   "execution_count": null,
   "metadata": {},
   "outputs": [
    {
     "data": {
      "text/plain": [
       "array([2.        , 3.        , 0.        , 1.73205081])"
      ]
     },
     "execution_count": 88,
     "metadata": {},
     "output_type": "execute_result"
    }
   ],
   "source": [
    "roots"
   ]
  },
  {
   "cell_type": "code",
   "execution_count": null,
   "metadata": {},
   "outputs": [
    {
     "data": {
      "text/plain": [
       "True"
      ]
     },
     "execution_count": 91,
     "metadata": {},
     "output_type": "execute_result"
    }
   ],
   "source": [
    "np.isnan(np.nan)"
   ]
  },
  {
   "cell_type": "code",
   "execution_count": null,
   "metadata": {},
   "outputs": [
    {
     "data": {
      "text/plain": [
       "True"
      ]
     },
     "execution_count": 92,
     "metadata": {},
     "output_type": "execute_result"
    }
   ],
   "source": [
    "None==None"
   ]
  },
  {
   "cell_type": "code",
   "execution_count": null,
   "metadata": {},
   "outputs": [
    {
     "name": "stdout",
     "output_type": "stream",
     "text": [
      "[False False False  True False False False False  True False False False\n",
      "  True False False]\n"
     ]
    }
   ],
   "source": [
    "mystery = np.array([ 12279., -26024.,  28745.,  np.nan,  31244.,  -2365.,  -6974.,\n",
    "        -9212., np.nan, -17722.,  16132.,  25933.,  np.nan, -16431.,\n",
    "        29810.], dtype=np.float32)\n",
    "\n",
    "nan_index=np.isnan(mystery)\n",
    "print(nan_index)"
   ]
  },
  {
   "cell_type": "code",
   "execution_count": null,
   "metadata": {},
   "outputs": [
    {
     "data": {
      "text/plain": [
       "3"
      ]
     },
     "execution_count": 101,
     "metadata": {},
     "output_type": "execute_result"
    }
   ],
   "source": [
    "n_nan = np.size(nan_index.nonzero())\n",
    "n_nan"
   ]
  },
  {
   "cell_type": "code",
   "execution_count": null,
   "metadata": {},
   "outputs": [
    {
     "name": "stdout",
     "output_type": "stream",
     "text": [
      "[ 12279. -26024.  28745.      0.  31244.  -2365.  -6974.  -9212.      0.\n",
      " -17722.  16132.  25933.      0. -16431.  29810.]\n"
     ]
    }
   ],
   "source": [
    "mystery_new=mystery.copy()\n",
    "mystery_new[nan_index]=0\n",
    "print(mystery_new)"
   ]
  },
  {
   "cell_type": "code",
   "execution_count": null,
   "metadata": {},
   "outputs": [
    {
     "name": "stdout",
     "output_type": "stream",
     "text": [
      "float32\n",
      "[ 12279 -26024  28745      0  31244  -2365  -6974  -9212      0 -17722\n",
      "  16132  25933      0 -16431  29810]\n"
     ]
    }
   ],
   "source": [
    "print(mystery.dtype)\n",
    "mystery_int=np.int32(mystery_new)\n",
    "print(mystery_int)"
   ]
  },
  {
   "cell_type": "code",
   "execution_count": null,
   "metadata": {},
   "outputs": [
    {
     "name": "stdout",
     "output_type": "stream",
     "text": [
      "[-26024 -17722 -16431  -9212  -6974  -2365      0      0      0  12279\n",
      "  16132  25933  28745  29810  31244]\n",
      "<class 'numpy.ndarray'>\n"
     ]
    }
   ],
   "source": [
    "array=np.array(sorted(mystery_int))\n",
    "print(array)\n",
    "print(type(array))"
   ]
  },
  {
   "cell_type": "code",
   "execution_count": null,
   "metadata": {},
   "outputs": [
    {
     "name": "stdout",
     "output_type": "stream",
     "text": [
      "[[-26024  -2365  16132]\n",
      " [-17722      0  25933]\n",
      " [-16431      0  28745]\n",
      " [ -9212      0  29810]\n",
      " [ -6974  12279  31244]]\n"
     ]
    }
   ],
   "source": [
    "table=array.reshape((5, 3), order='F')\n",
    "print(table)"
   ]
  },
  {
   "cell_type": "code",
   "execution_count": null,
   "metadata": {},
   "outputs": [
    {
     "name": "stdout",
     "output_type": "stream",
     "text": [
      "[-2365     0     0     0 12279]\n"
     ]
    }
   ],
   "source": [
    "col=table[:,1]\n",
    "print(col)"
   ]
  },
  {
   "cell_type": "code",
   "execution_count": null,
   "metadata": {},
   "outputs": [
    {
     "data": {
      "text/plain": [
       "250.0"
      ]
     },
     "execution_count": 126,
     "metadata": {},
     "output_type": "execute_result"
    }
   ],
   "source": [
    "vec1 = np.arange(1, 6)\n",
    "vec2 = np.linspace(10, 20, 5)\n",
    "scalar_product = np.sum(vec1 * vec2)\n",
    "scalar_product"
   ]
  },
  {
   "cell_type": "code",
   "execution_count": null,
   "metadata": {},
   "outputs": [
    {
     "name": "stdout",
     "output_type": "stream",
     "text": [
      "[1 2 3 4 5]\n",
      "[10.  12.5 15.  17.5 20. ]\n"
     ]
    }
   ],
   "source": [
    "print(vec1)\n",
    "print(vec2)"
   ]
  },
  {
   "cell_type": "code",
   "execution_count": null,
   "metadata": {},
   "outputs": [
    {
     "data": {
      "text/plain": [
       "250.0"
      ]
     },
     "execution_count": 129,
     "metadata": {},
     "output_type": "execute_result"
    }
   ],
   "source": [
    "scalar_product = np.dot(vec1, vec2)\n",
    "scalar_product"
   ]
  },
  {
   "cell_type": "code",
   "execution_count": null,
   "metadata": {},
   "outputs": [
    {
     "name": "stdout",
     "output_type": "stream",
     "text": [
      "len a= 49.13247398615299\n",
      "len_b= 70.94363960215179\n",
      "len_c= 98.26494797230598\n",
      "len(a+b) =   86.68909966079934\n",
      "len (a+c) =  147.39742195845895\n",
      "len (b+c)= 121.75795661885921\n",
      "len (a)+len(b) =   120.07611358830478\n",
      "len (a)+len(c) =  147.39742195845895\n",
      "len (b) +len(c)= 169.20858757445777\n",
      "a and c is collinear\n"
     ]
    }
   ],
   "source": [
    "a=np.array([23, 34, 27])\n",
    "b=np.array([-54,1,46])\n",
    "c=np.array([46,68,54])\n",
    "\n",
    "fn=np.linalg.norm\n",
    "\n",
    "len_a=fn(a)\n",
    "len_b=fn(b)\n",
    "len_c=fn(c)\n",
    "\n",
    "ab=a+b\n",
    "ac=a+c\n",
    "bc=b+c\n",
    "\n",
    "len_a_plus_b=fn(ab)\n",
    "len_a_plus_c=fn(ac)\n",
    "len_b_plus_c=fn(bc)\n",
    "\n",
    "print('len a=',len_a)\n",
    "print('len_b=',len_b)\n",
    "print('len_c=',len_c)\n",
    "\n",
    "print('len(a+b) =  ',len_a_plus_b )\n",
    "print('len (a+c) = ',len_a_plus_c)\n",
    "print('len (b+c)=',len_b_plus_c)\n",
    "\n",
    "print('len (a)+len(b) =  ',len_a+len_b )\n",
    "print('len (a)+len(c) = ',len_a + len_c)\n",
    "print('len (b) +len(c)=',len_b + len_c)\n",
    "\n",
    "if len_a_plus_b==len_a+len_b:\n",
    "    print('a and b is collinear')\n",
    "    \n",
    "if len_a_plus_c==len_a+len_c:\n",
    "    print('a and c is collinear')\n",
    "    \n",
    "if len_b_plus_c==len_b+len_c:\n",
    "    print('b and c is collinear')\n"
   ]
  },
  {
   "cell_type": "code",
   "execution_count": null,
   "metadata": {},
   "outputs": [
    {
     "name": "stdout",
     "output_type": "stream",
     "text": [
      "[23 34 27]\n",
      "[-54   1  46]\n",
      "[46 68 54]\n",
      "a b -33.387013927505436\n",
      "a c -1.4210854715202004e-14\n",
      "b c -47.450630955598555\n"
     ]
    }
   ],
   "source": [
    "#from hidden import *\n",
    "\n",
    "#import numpy as np\n",
    "\n",
    "print(a)\n",
    "print(b)\n",
    "print(c)\n",
    "ab=a+b\n",
    "ac=a+c\n",
    "bc=b+c\n",
    "\n",
    "len_a=np.linalg.norm(a)\n",
    "len_b=np.linalg.norm(b)\n",
    "len_c=np.linalg.norm(c)\n",
    "\n",
    "len_ab=np.linalg.norm(ab)\n",
    "len_ac=np.linalg.norm(ac)\n",
    "len_bc=np.linalg.norm(bc)\n",
    "\n",
    "razn_ab=len_ab-len_a-len_b\n",
    "razn_ac=len_ac-len_a-len_c\n",
    "razn_bc=len_bc-len_b-len_c\n",
    "\n",
    "print('a b',razn_ab)\n",
    "print('a c',razn_ac)\n",
    "print('b c',razn_bc)"
   ]
  },
  {
   "cell_type": "code",
   "execution_count": null,
   "metadata": {},
   "outputs": [
    {
     "name": "stdout",
     "output_type": "stream",
     "text": [
      "a - b 85.901105930017\n",
      "a - c 49.13247398615299\n",
      "b - c 120.6358155772986\n"
     ]
    }
   ],
   "source": [
    "fn=np.linalg.norm\n",
    "\n",
    "print('a - b',fn(a-b))\n",
    "print('a - c',fn(a-c))\n",
    "print('b - c',fn(b-c))"
   ]
  },
  {
   "cell_type": "code",
   "execution_count": null,
   "metadata": {},
   "outputs": [
    {
     "name": "stdout",
     "output_type": "stream",
     "text": [
      "a b 34\n",
      "a c 4828\n",
      "b c 68\n"
     ]
    }
   ],
   "source": [
    "import numpy as np\n",
    "fn1=np.dot\n",
    "print('a b',np.dot(a,b))\n",
    "print('a c',np.dot(a,c))\n",
    "print('b c',np.dot(b,c))"
   ]
  },
  {
   "cell_type": "code",
   "execution_count": null,
   "metadata": {},
   "outputs": [
    {
     "name": "stdout",
     "output_type": "stream",
     "text": [
      "3 4\n"
     ]
    }
   ],
   "source": [
    "sh=(3,4)\n",
    "print(*sh)"
   ]
  },
  {
   "cell_type": "code",
   "execution_count": null,
   "metadata": {},
   "outputs": [
    {
     "name": "stdout",
     "output_type": "stream",
     "text": [
      "[8 8 3]\n",
      "[7 7 0]\n",
      "[4 2 5]\n"
     ]
    }
   ],
   "source": [
    "np.random.seed(100)\n",
    "print(np.random.randint(10, size=3))\n",
    "# [8 8 3]\n",
    "print(np.random.randint(10, size=3))\n",
    "# [7 7 0]\n",
    "print(np.random.randint(10, size=3))\n",
    "# [4 2 5]\n"
   ]
  },
  {
   "cell_type": "code",
   "execution_count": null,
   "metadata": {},
   "outputs": [
    {
     "name": "stdout",
     "output_type": "stream",
     "text": [
      "0.6059782788074047\n",
      "table  [[46 93]\n",
      " [35 41]\n",
      " [17 45]]\n",
      "[ 2  4  6  8 10 12 14 16]\n",
      "[ 6 10  2  8 14 16  4 12]\n",
      "sel  [14  2  4]\n",
      "trp  [ 2  4 14]\n",
      "sel  [14  2  4]\n"
     ]
    }
   ],
   "source": [
    "import numpy as np\n",
    "\n",
    "p=print\n",
    "\n",
    "np.random.seed(2021)\n",
    "\n",
    "simple=np.random.rand()\n",
    "\n",
    "randoms=np.random.uniform(-150,2022,size=120)\n",
    "\n",
    "table=np.random.randint(1,101,size=(3,2))\n",
    "\n",
    "even=np.arange(2,18,2)\n",
    "\n",
    "mix=np.random.permutation(even)\n",
    "\n",
    "select=np.random.choice(even, size=3, replace=False)\n",
    "\n",
    "triplet=np.random.permutation(select)\n",
    "\n",
    "print(simple)\n",
    "print('table ',table)\n",
    "\n",
    "\n",
    "p(even)\n",
    "p(mix)\n",
    "p('sel ',select)\n",
    "p('trp ' ,triplet)\n",
    "p('sel ',select)\n"
   ]
  },
  {
   "cell_type": "code",
   "execution_count": null,
   "metadata": {},
   "outputs": [
    {
     "name": "stdout",
     "output_type": "stream",
     "text": [
      "old  [[0.]]\n",
      "new  [[0.]]\n",
      "None\n"
     ]
    }
   ],
   "source": [
    "def get_chess(a=1):\n",
    "    chs=np.zeros((a,a))\n",
    "    print('old ',chs)\n",
    "    chs[range(0,a,2),1::2]=1\n",
    "    chs[range(1,a,2),::2]=1\n",
    "    #print('---',chs[0:a,0:a][0::2])\n",
    "\n",
    "    print('new ',chs)\n",
    "    \n",
    "    \n",
    "print(get_chess(a = 1))\n",
    "\n",
    "#print(*range(1,3,2))"
   ]
  },
  {
   "cell_type": "code",
   "execution_count": null,
   "metadata": {},
   "outputs": [
    {
     "name": "stdout",
     "output_type": "stream",
     "text": [
      "[0 1 2 3 4]\n"
     ]
    },
    {
     "ename": "TypeError",
     "evalue": "RandomState.shuffle() takes exactly one argument (2 given)",
     "output_type": "error",
     "traceback": [
      "\u001b[1;31m---------------------------------------------------------------------------\u001b[0m",
      "\u001b[1;31mTypeError\u001b[0m                                 Traceback (most recent call last)",
      "Cell \u001b[1;32mIn[15], line 5\u001b[0m\n\u001b[0;32m      3\u001b[0m seed_cur\u001b[39m=\u001b[39mnp\u001b[39m.\u001b[39mrandom\u001b[39m.\u001b[39mrandom()\n\u001b[0;32m      4\u001b[0m np\u001b[39m.\u001b[39mrandom\u001b[39m.\u001b[39mseed\u001b[39m=\u001b[39mseed_cur\n\u001b[1;32m----> 5\u001b[0m np\u001b[39m.\u001b[39;49mrandom\u001b[39m.\u001b[39;49mshuffle(arr,\u001b[39m3\u001b[39;49m)\n\u001b[0;32m      6\u001b[0m \u001b[39mprint\u001b[39m(arr)\n\u001b[0;32m      7\u001b[0m \u001b[39mprint\u001b[39m(seed_cur)\n",
      "\u001b[1;31mTypeError\u001b[0m: RandomState.shuffle() takes exactly one argument (2 given)"
     ]
    }
   ],
   "source": [
    "arr=np.array(range(5))\n",
    "print(arr)\n",
    "seed_cur=np.random.random()\n",
    "np.random.seed=seed_cur\n",
    "np.random.shuffle(arr,3)\n",
    "print(arr)\n",
    "print(seed_cur)"
   ]
  },
  {
   "cell_type": "code",
   "execution_count": null,
   "metadata": {},
   "outputs": [
    {
     "name": "stdout",
     "output_type": "stream",
     "text": [
      "[0 1 2 3 4]\n",
      "[0, 1, 2, 3, 4]\n"
     ]
    }
   ],
   "source": [
    "arr=np.array(range(5))\n",
    "print(arr)\n",
    "key_sort=np.random.random()\n",
    "B = sorted(arr, key=lambda x: key_sort)\n",
    "print(B)"
   ]
  },
  {
   "cell_type": "code",
   "execution_count": null,
   "metadata": {},
   "outputs": [
    {
     "name": "stdout",
     "output_type": "stream",
     "text": [
      "(array([0, 1, 4, 3, 2]), 1521212522)\n"
     ]
    }
   ],
   "source": [
    "def shuffle_seed(array): \n",
    "    seed = np.random.randint(2**31)\n",
    "    np.random.seed=seed\n",
    "    result = np.random.permutation(array)\n",
    "    return result, seed \n",
    "\n",
    "arr=np.array(range(5))\n",
    "print(shuffle_seed(arr))\n"
   ]
  },
  {
   "cell_type": "code",
   "execution_count": 65,
   "metadata": {},
   "outputs": [
    {
     "ename": "SyntaxError",
     "evalue": "incomplete input (3133169480.py, line 4)",
     "output_type": "error",
     "traceback": [
      "\u001b[1;36m  Cell \u001b[1;32mIn[65], line 4\u001b[1;36m\u001b[0m\n\u001b[1;33m    \u001b[0m\n\u001b[1;37m    ^\u001b[0m\n\u001b[1;31mSyntaxError\u001b[0m\u001b[1;31m:\u001b[0m incomplete input\n"
     ]
    }
   ],
   "source": [
    "def get_loto(num):\n",
    "    res_arr=[]\n",
    "    for i in range(num):\n",
    "        "
   ]
  },
  {
   "cell_type": "code",
   "execution_count": 91,
   "metadata": {},
   "outputs": [
    {
     "name": "stdout",
     "output_type": "stream",
     "text": [
      "[  0   1   2   3   4   5   6   7   8   9  10  11  12  13  14  15  16  17\n",
      "  18  19  20  21  22  23  24  25  26  27  28  29  30  31  32  33  34  35\n",
      "  36  37  38  39  40  41  42  43  44  45  46  47  48  49  50  51  52  53\n",
      "  54  55  56  57  58  59  60  61  62  63  64  65  66  67  68  69  70  71\n",
      "  72  73  74  75  76  77  78  79  80  81  82  83  84  85  86  87  88  89\n",
      "  90  91  92  93  94  95  96  97  98  99 100]\n",
      "arr  [[ 24  36  79  70  90]\n",
      " [ 25   3   8  67  75]\n",
      " [ 19  74  99  60  92]\n",
      " [  9  49 100  44  68]\n",
      " [ 91  48  35  73  81]]\n",
      "arr  [[ 5 27 36 41 25]\n",
      " [18 14 70 64 91]\n",
      " [56 86 97 32 38]\n",
      " [13 33 20 35 94]\n",
      " [16 73 82 55 26]]\n",
      "arr  [[ 61  60  83   7  86]\n",
      " [ 24  29   6  56  74]\n",
      " [ 34  65   9  19  89]\n",
      " [ 21  76  96  52  48]\n",
      " [ 67  85  40 100  51]]\n",
      "[[[ 24  36  79  70  90]\n",
      "  [ 25   3   8  67  75]\n",
      "  [ 19  74  99  60  92]\n",
      "  [  9  49 100  44  68]\n",
      "  [ 91  48  35  73  81]]\n",
      "\n",
      " [[  5  27  36  41  25]\n",
      "  [ 18  14  70  64  91]\n",
      "  [ 56  86  97  32  38]\n",
      "  [ 13  33  20  35  94]\n",
      "  [ 16  73  82  55  26]]\n",
      "\n",
      " [[ 61  60  83   7  86]\n",
      "  [ 24  29   6  56  74]\n",
      "  [ 34  65   9  19  89]\n",
      "  [ 21  76  96  52  48]\n",
      "  [ 67  85  40 100  51]]]\n"
     ]
    }
   ],
   "source": [
    "def get_loto(num):     \n",
    "    l_num=np.array(range(101))\n",
    "    print(l_num)\n",
    "    arr=np.zeros((num,5,5),dtype=int)\n",
    "    for i in range(num):\n",
    "        l_uniq=np.random.permutation(l_num)\n",
    "        arr[i]=l_uniq[0:25].reshape((5,5))\n",
    "        print('arr ',arr[i])\n",
    "    return arr   \n",
    "   \n",
    "    \n",
    "print(get_loto(3))"
   ]
  },
  {
   "cell_type": "code",
   "execution_count": 92,
   "metadata": {},
   "outputs": [
    {
     "name": "stdout",
     "output_type": "stream",
     "text": [
      "[[[0 0 0 0 0]\n",
      "  [0 0 0 0 0]\n",
      "  [0 0 0 0 0]\n",
      "  [0 0 0 0 0]\n",
      "  [0 0 0 0 0]]\n",
      "\n",
      " [[0 0 0 0 0]\n",
      "  [0 0 0 0 0]\n",
      "  [0 0 0 0 0]\n",
      "  [0 0 0 0 0]\n",
      "  [0 0 0 0 0]]\n",
      "\n",
      " [[0 0 0 0 0]\n",
      "  [0 0 0 0 0]\n",
      "  [0 0 0 0 0]\n",
      "  [0 0 0 0 0]\n",
      "  [0 0 0 0 0]]]\n"
     ]
    }
   ],
   "source": [
    "def get_unique_loto(num):     \n",
    "   \n",
    "    arr=np.zeros((num,5,5),dtype=int)\n",
    "    return arr   \n",
    "   \n",
    "    \n",
    "print(get_unique_loto(3))"
   ]
  },
  {
   "cell_type": "code",
   "execution_count": 97,
   "metadata": {},
   "outputs": [
    {
     "name": "stdout",
     "output_type": "stream",
     "text": [
      "261.5\n"
     ]
    }
   ],
   "source": [
    "simplelist = [19, 242, 14, 152, 142, 1000]\n",
    "arr=np.array(simplelist)\n",
    "print(np.mean(arr))"
   ]
  },
  {
   "cell_type": "code",
   "execution_count": null,
   "metadata": {},
   "outputs": [],
   "source": []
  }
 ],
 "metadata": {
  "kernelspec": {
   "display_name": "Python 3",
   "language": "python",
   "name": "python3"
  },
  "language_info": {
   "codemirror_mode": {
    "name": "ipython",
    "version": 3
   },
   "file_extension": ".py",
   "mimetype": "text/x-python",
   "name": "python",
   "nbconvert_exporter": "python",
   "pygments_lexer": "ipython3",
   "version": "3.11.1"
  },
  "orig_nbformat": 4,
  "vscode": {
   "interpreter": {
    "hash": "5238573367df39f7286bb46f9ff5f08f63a01a80960060ce41e3c79b190280fa"
   }
  }
 },
 "nbformat": 4,
 "nbformat_minor": 2
}
